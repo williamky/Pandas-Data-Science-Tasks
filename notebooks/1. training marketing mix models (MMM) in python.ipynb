{
  "cells": [
    {
      "cell_type": "code",
      "source": [
        "# !pip install pymc-marketing numpy pandas matplotlib arviz seaborn\n",
        "# !pip install numpyro\n",
        "# !pip install watermark\n",
        "\n",
        "def data_generator(start_date, periods, channels, spend_scalar, adstock_alphas, saturation_lamdas, betas, freq=\"W\"):\n",
        "    '''\n",
        "    Generates a synthetic dataset for a MMM with trend, seasonality, and channel-specific contributions.\n",
        "\n",
        "    Args:\n",
        "        start_date (str or pd.Timestamp): The start date for the generated time series data.\n",
        "        periods (int): The number of time periods (e.g., days, weeks) to generate data for.\n",
        "        channels (list of str): A list of channel names for which the model will generate spend and sales data.\n",
        "        spend_scalar (list of float): Scalars that adjust the raw spend for each channel to a desired scale.\n",
        "        adstock_alphas (list of float): The adstock decay factors for each channel, determining how much past spend influences the current period.\n",
        "        saturation_lamdas (list of float): Lambda values for the logistic saturation function, controlling the saturation effect on each channel.\n",
        "        betas (list of float): The coefficients for each channel, representing the contribution of each channel's impact on sales.\n",
        "\n",
        "    Returns:\n",
        "        pd.DataFrame: A DataFrame containing the generated time series data, including demand, sales, and channel-specific metrics.\n",
        "    '''\n",
        "\n",
        "    # 0. Create time dimension\n",
        "    date_range = pd.date_range(start=start_date, periods=periods, freq=freq)\n",
        "    df = pd.DataFrame({'date': date_range})\n",
        "\n",
        "    # 1. Add trend component with some growth\n",
        "    df[\"trend\"]= (np.linspace(start=0.0, stop=20, num=periods) + 5) ** (1 / 8) - 1\n",
        "\n",
        "    # 2. Add seasonal component with oscillation around 0\n",
        "    df[\"seasonality\"] = df[\"seasonality\"] = 0.1 * np.sin(2 * np.pi * df.index / 52)\n",
        "\n",
        "    # 3. Multiply trend and seasonality to create overall demand with noise\n",
        "    df[\"demand\"] = df[\"trend\"] * (1 + df[\"seasonality\"]) + np.random.normal(loc=0, scale=0.10, size=periods)\n",
        "    df[\"demand\"] = df[\"demand\"] * 1000\n",
        "\n",
        "    # 4. Create proxy for demand, which is able to follow demand but has some noise added\n",
        "    df[\"demand_proxy\"] = np.abs(df[\"demand\"]* np.random.normal(loc=1, scale=0.10, size=periods))\n",
        "\n",
        "    # 5. Initialize sales based on demand\n",
        "    df[\"sales\"] = df[\"demand\"]\n",
        "\n",
        "    # 6. Loop through each channel and add channel-specific contribution\n",
        "    for i, channel in enumerate(channels):\n",
        "\n",
        "        # Create raw channel spend, following demand with some random noise added\n",
        "        df[f\"{channel}_spend_raw\"] = df[\"demand\"] * spend_scalar[i]\n",
        "        df[f\"{channel}_spend_raw\"] = np.abs(df[f\"{channel}_spend_raw\"] * np.random.normal(loc=1, scale=0.30, size=periods))\n",
        "\n",
        "        # Scale channel spend\n",
        "        channel_transformer = MaxAbsScaler().fit(df[f\"{channel}_spend_raw\"].values.reshape(-1, 1))\n",
        "        df[f\"{channel}_spend\"] = channel_transformer .transform(df[f\"{channel}_spend_raw\"].values.reshape(-1, 1))\n",
        "\n",
        "        # Apply adstock transformation\n",
        "        df[f\"{channel}_adstock\"] = geometric_adstock(\n",
        "            x=df[f\"{channel}_spend\"].to_numpy(),\n",
        "            alpha=adstock_alphas[i],\n",
        "            l_max=8, normalize=True\n",
        "        ).eval().flatten()\n",
        "\n",
        "        # Apply saturation transformation\n",
        "        df[f\"{channel}_saturated\"] = logistic_saturation(\n",
        "            x=df[f\"{channel}_adstock\"].to_numpy(),\n",
        "            lam=saturation_lamdas[i]\n",
        "        ).eval()\n",
        "\n",
        "        # Calculate contribution to sales\n",
        "        df[f\"{channel}_sales\"] = df[f\"{channel}_saturated\"] * betas[i]\n",
        "\n",
        "        # Add the channel-specific contribution to sales\n",
        "        df[\"sales\"] += df[f\"{channel}_sales\"]\n",
        "\n",
        "    return df"
      ],
      "metadata": {
        "id": "HkacDwTlFYqJ"
      },
      "execution_count": 10,
      "outputs": []
    },
    {
      "cell_type": "code",
      "execution_count": 11,
      "metadata": {
        "id": "L4Jo6j8ZCM14"
      },
      "outputs": [],
      "source": [
        "import warnings\n",
        "\n",
        "import arviz as az\n",
        "import matplotlib.pyplot as plt\n",
        "import numpy as np\n",
        "import pandas as pd\n",
        "import seaborn as sns\n",
        "from scipy.stats import beta, gamma, halfnorm, laplace, norm, truncnorm\n",
        "from pymc_marketing.mmm import MMM, GeometricAdstock, LogisticSaturation\n",
        "from pymc_marketing.mmm.transformers import geometric_adstock, logistic_saturation\n",
        "from sklearn.preprocessing import MaxAbsScaler\n",
        "from sklearn.linear_model import LinearRegression\n",
        "import data_generator as dg\n",
        "\n",
        "warnings.filterwarnings(\"ignore\", category=FutureWarning)\n",
        "\n",
        "az.style.use(\"arviz-darkgrid\")\n",
        "plt.rcParams[\"figure.figsize\"] = [12, 7]\n",
        "plt.rcParams[\"figure.dpi\"] = 100"
      ]
    },
    {
      "cell_type": "markdown",
      "metadata": {
        "id": "6gREdE_QCM15"
      },
      "source": [
        "\\begin{align*}\n",
        "P(\\theta | \\text{Data}) &= \\frac{P(\\text{Data} | \\theta) \\cdot P(\\theta)}{P(\\text{Data})}\n",
        "\\end{align*}"
      ]
    },
    {
      "cell_type": "markdown",
      "metadata": {
        "id": "OU_TZ75nCM15"
      },
      "source": [
        "| Package          | Language   | Developer       | Approach    |\n",
        "|------------------|------------|-----------------|-------------|\n",
        "| Robyn            | R          | Facebook        | Frequentist |\n",
        "| pymc-marketing   | Python     | PyMC Labs       | Bayesian    |\n",
        "| LightweightMMM   | Python     | Google          | Bayesian    |\n",
        "| Meridian         | Python     | Google          | Bayesian    |\n"
      ]
    },
    {
      "cell_type": "markdown",
      "metadata": {
        "id": "C6XIGnIqCM15"
      },
      "source": [
        "# 0) MMM data generator"
      ]
    },
    {
      "cell_type": "code",
      "execution_count": 12,
      "metadata": {
        "id": "84rZvxaGCM15",
        "outputId": "8539d764-ded8-425c-8f77-17c6d1e1bd3c",
        "colab": {
          "base_uri": "https://localhost:8080/",
          "height": 211
        }
      },
      "outputs": [
        {
          "output_type": "error",
          "ename": "AttributeError",
          "evalue": "'function' object has no attribute 'data_generator'",
          "traceback": [
            "\u001b[0;31m---------------------------------------------------------------------------\u001b[0m",
            "\u001b[0;31mAttributeError\u001b[0m                            Traceback (most recent call last)",
            "\u001b[0;32m<ipython-input-12-97d5caa56b90>\u001b[0m in \u001b[0;36m<cell line: 0>\u001b[0;34m()\u001b[0m\n\u001b[1;32m     10\u001b[0m \u001b[0mspend_scalars\u001b[0m \u001b[0;34m=\u001b[0m \u001b[0;34m[\u001b[0m\u001b[0;36m10\u001b[0m\u001b[0;34m,\u001b[0m \u001b[0;36m15\u001b[0m\u001b[0;34m,\u001b[0m \u001b[0;36m20\u001b[0m\u001b[0;34m]\u001b[0m\u001b[0;34m\u001b[0m\u001b[0;34m\u001b[0m\u001b[0m\n\u001b[1;32m     11\u001b[0m \u001b[0;34m\u001b[0m\u001b[0m\n\u001b[0;32m---> 12\u001b[0;31m \u001b[0mdf\u001b[0m \u001b[0;34m=\u001b[0m \u001b[0mdg\u001b[0m\u001b[0;34m.\u001b[0m\u001b[0mdata_generator\u001b[0m\u001b[0;34m(\u001b[0m\u001b[0mstart_date\u001b[0m\u001b[0;34m,\u001b[0m \u001b[0mperiods\u001b[0m\u001b[0;34m,\u001b[0m \u001b[0mchannels\u001b[0m\u001b[0;34m,\u001b[0m \u001b[0mspend_scalars\u001b[0m\u001b[0;34m,\u001b[0m \u001b[0madstock_alphas\u001b[0m\u001b[0;34m,\u001b[0m \u001b[0msaturation_lamdas\u001b[0m\u001b[0;34m,\u001b[0m \u001b[0mbetas\u001b[0m\u001b[0;34m)\u001b[0m\u001b[0;34m\u001b[0m\u001b[0;34m\u001b[0m\u001b[0m\n\u001b[0m\u001b[1;32m     13\u001b[0m \u001b[0;34m\u001b[0m\u001b[0m\n\u001b[1;32m     14\u001b[0m \u001b[0;31m# Scale betas using maximum sales value - this is so it is comparable to the fitted beta from pymc (pymc does feature and target scaling using MaxAbsScaler from sklearn)\u001b[0m\u001b[0;34m\u001b[0m\u001b[0;34m\u001b[0m\u001b[0m\n",
            "\u001b[0;31mAttributeError\u001b[0m: 'function' object has no attribute 'data_generator'"
          ]
        }
      ],
      "source": [
        "np.random.seed(10)\n",
        "\n",
        "# Set parameters for data generator\n",
        "start_date = \"2021-01-01\"\n",
        "periods = 52 * 3\n",
        "channels = [\"tv\", \"social\", \"search\"]\n",
        "adstock_alphas = [0.50, 0.25, 0.05]\n",
        "saturation_lamdas = [1.5, 2.5, 3.5]\n",
        "betas = [350, 150, 50]\n",
        "spend_scalars = [10, 15, 20]\n",
        "\n",
        "df = dg.data_generator(start_date, periods, channels, spend_scalars, adstock_alphas, saturation_lamdas, betas)\n",
        "\n",
        "# Scale betas using maximum sales value - this is so it is comparable to the fitted beta from pymc (pymc does feature and target scaling using MaxAbsScaler from sklearn)\n",
        "betas_scaled = [\n",
        "    ((df[\"tv_sales\"] / df[\"sales\"].max()) / df[\"tv_saturated\"]).mean(),\n",
        "    ((df[\"social_sales\"] / df[\"sales\"].max()) / df[\"social_saturated\"]).mean(),\n",
        "    ((df[\"search_sales\"] / df[\"sales\"].max()) / df[\"search_saturated\"]).mean()\n",
        "]\n",
        "\n",
        "# Calculate contributions\n",
        "contributions = np.asarray([\n",
        "    round((df[\"tv_sales\"].sum() / df[\"sales\"].sum()), 2),\n",
        "    round((df[\"social_sales\"].sum() / df[\"sales\"].sum()), 2),\n",
        "    round((df[\"search_sales\"].sum() / df[\"sales\"].sum()), 2),\n",
        "    round((df[\"demand\"].sum() / df[\"sales\"].sum()), 2)\n",
        "])\n",
        "\n",
        "df[[\"date\", \"demand\", \"demand_proxy\", \"tv_spend_raw\", \"social_spend_raw\", \"search_spend_raw\", \"sales\"]]"
      ]
    },
    {
      "cell_type": "code",
      "execution_count": 9,
      "metadata": {
        "id": "fn71Pf0qCM15",
        "outputId": "8173bc70-cad5-4406-d541-76b066356e10",
        "colab": {
          "base_uri": "https://localhost:8080/",
          "height": 141
        }
      },
      "outputs": [
        {
          "output_type": "error",
          "ename": "NameError",
          "evalue": "name 'betas_scaled' is not defined",
          "traceback": [
            "\u001b[0;31m---------------------------------------------------------------------------\u001b[0m",
            "\u001b[0;31mNameError\u001b[0m                                 Traceback (most recent call last)",
            "\u001b[0;32m<ipython-input-9-c227003c438b>\u001b[0m in \u001b[0;36m<cell line: 0>\u001b[0;34m()\u001b[0m\n\u001b[0;32m----> 1\u001b[0;31m \u001b[0mbetas_scaled\u001b[0m\u001b[0;34m\u001b[0m\u001b[0;34m\u001b[0m\u001b[0m\n\u001b[0m",
            "\u001b[0;31mNameError\u001b[0m: name 'betas_scaled' is not defined"
          ]
        }
      ],
      "source": [
        "betas_scaled"
      ]
    },
    {
      "cell_type": "code",
      "execution_count": null,
      "metadata": {
        "id": "wmH8TCXZCM16"
      },
      "outputs": [],
      "source": [
        "contributions"
      ]
    },
    {
      "cell_type": "code",
      "execution_count": null,
      "metadata": {
        "id": "0xKG5zQhCM16"
      },
      "outputs": [],
      "source": [
        "plt.figure(figsize=(8, 8))\n",
        "sns.heatmap(df[[\"demand\", \"demand_proxy\", \"tv_spend_raw\", \"social_spend_raw\", \"search_spend_raw\", \"sales\"]].corr(), annot=True, cmap='coolwarm', vmin=-1, vmax=1)\n",
        "plt.title('Correlation Heatmap')\n",
        "plt.show()"
      ]
    },
    {
      "cell_type": "code",
      "execution_count": null,
      "metadata": {
        "id": "QBOPuKPOCM16"
      },
      "outputs": [],
      "source": [
        "plt.figure(figsize=(8, 5))\n",
        "\n",
        "sns.lineplot(x=df['date'], y=df['trend']*1000, label=\"Trend\", color=\"green\")\n",
        "sns.lineplot(x=df['date'], y=df['seasonality']*1000, label=\"Seasonality\", color=\"orange\")\n",
        "sns.lineplot(x=df['date'], y=df['demand'], label=\"Demand\", color=\"blue\")\n",
        "\n",
        "plt.title('Components', fontsize=16)\n",
        "plt.xlabel('Date', fontsize=12)\n",
        "plt.ylabel('Value', fontsize=12)\n",
        "plt.xticks(rotation=45, ha='right')\n",
        "plt.legend()\n",
        "plt.show()"
      ]
    },
    {
      "cell_type": "code",
      "execution_count": null,
      "metadata": {
        "id": "0OB6kMMBCM16"
      },
      "outputs": [],
      "source": [
        "plt.figure(figsize=(8, 5))\n",
        "\n",
        "sns.scatterplot(x=df['demand_proxy'], y=df['demand'], color=\"blue\")\n",
        "\n",
        "plt.title('Demand proxy vs demand', fontsize=16)\n",
        "plt.xlabel('Demand proxy', fontsize=12)\n",
        "plt.ylabel('Demand', fontsize=12)\n",
        "plt.xticks(rotation=45, ha='right')\n",
        "plt.show()"
      ]
    },
    {
      "cell_type": "code",
      "execution_count": null,
      "metadata": {
        "id": "6rlaNWo3CM16"
      },
      "outputs": [],
      "source": [
        "plt.figure(figsize=(8, 5))\n",
        "\n",
        "sns.lineplot(x=df['date'], y=df['tv_spend_raw'], label=channels[0], color=\"orange\")\n",
        "sns.lineplot(x=df['date'], y=df['social_spend_raw'], label=channels[1], color=\"blue\")\n",
        "sns.lineplot(x=df['date'], y=df['search_spend_raw'], label=channels[2], color=\"green\")\n",
        "plt.title('Marketing Channel Spend', fontsize=16)\n",
        "plt.xlabel('Date', fontsize=12)\n",
        "plt.ylabel('Value', fontsize=12)\n",
        "plt.xticks(rotation=45, ha='right')\n",
        "plt.legend()\n",
        "plt.show()"
      ]
    },
    {
      "cell_type": "code",
      "execution_count": null,
      "metadata": {
        "id": "foFzlq5pCM16"
      },
      "outputs": [],
      "source": [
        "plt.figure(figsize=(8, 5))\n",
        "\n",
        "sns.lineplot(x=df['date'], y=df['tv_spend'], label=\"Channel 1 Spend\", color=\"orange\")\n",
        "sns.lineplot(x=df['date'], y=df['tv_adstock'], label=\"Channel 1 Adstocked\", color=\"blue\")\n",
        "\n",
        "plt.title('Components', fontsize=16)\n",
        "plt.xlabel('Date', fontsize=12)\n",
        "plt.ylabel('Value', fontsize=12)\n",
        "plt.xticks(rotation=45, ha='right')\n",
        "plt.legend()\n",
        "plt.show()"
      ]
    },
    {
      "cell_type": "code",
      "execution_count": null,
      "metadata": {
        "id": "B1GVguvdCM16"
      },
      "outputs": [],
      "source": [
        "plt.figure(figsize=(8, 5))\n",
        "\n",
        "sns.lineplot(x=df['date'], y=df['social_spend'], label=\"Channel 2 Spend\", color=\"orange\")\n",
        "sns.lineplot(x=df['date'], y=df['social_adstock'], label=\"Channel 2 Adstocked\", color=\"blue\")\n",
        "\n",
        "plt.title('Components', fontsize=16)\n",
        "plt.xlabel('Date', fontsize=12)\n",
        "plt.ylabel('Value', fontsize=12)\n",
        "plt.xticks(rotation=45, ha='right')\n",
        "plt.legend()\n",
        "plt.show()"
      ]
    },
    {
      "cell_type": "code",
      "execution_count": null,
      "metadata": {
        "id": "kMiIll0UCM16"
      },
      "outputs": [],
      "source": [
        "plt.figure(figsize=(8, 5))\n",
        "\n",
        "sns.lineplot(x=df['date'], y=df['search_spend'], label=\"Channel 3 Spend\", color=\"orange\")\n",
        "sns.lineplot(x=df['date'], y=df['search_adstock'], label=\"Channel 3 Adstocked\", color=\"blue\")\n",
        "\n",
        "plt.title('Components', fontsize=16)\n",
        "plt.xlabel('Date', fontsize=12)\n",
        "plt.ylabel('Value', fontsize=12)\n",
        "plt.xticks(rotation=45, ha='right')\n",
        "plt.legend()\n",
        "plt.show()"
      ]
    },
    {
      "cell_type": "code",
      "execution_count": null,
      "metadata": {
        "id": "0Ye406HDCM16"
      },
      "outputs": [],
      "source": [
        "plt.figure(figsize=(8, 5))\n",
        "\n",
        "sns.lineplot(x=df['tv_adstock'], y=df['tv_saturated'], label=channels[0], color=\"orange\")\n",
        "sns.lineplot(x=df['social_adstock'], y=df['social_saturated'], label=channels[1], color=\"blue\")\n",
        "sns.lineplot(x=df['search_adstock'], y=df['search_saturated'], label=channels[2], color=\"green\")\n",
        "\n",
        "plt.title('Marketing Spend Saturation', fontsize=16)\n",
        "plt.xlabel('Adstocked spend', fontsize=12)\n",
        "plt.ylabel('Saturated spend', fontsize=12)\n",
        "plt.legend()\n",
        "plt.show()"
      ]
    },
    {
      "cell_type": "code",
      "execution_count": null,
      "metadata": {
        "id": "qX3BkYxUCM16"
      },
      "outputs": [],
      "source": [
        "plt.figure(figsize=(8, 5))\n",
        "\n",
        "sns.lineplot(x=df['date'], y=df['sales'], label=\"sales\", color=\"green\")\n",
        "\n",
        "plt.title('Sales', fontsize=16)\n",
        "plt.xlabel('Date', fontsize=12)\n",
        "plt.ylabel('Value', fontsize=12)\n",
        "plt.xticks(rotation=45, ha='right')\n",
        "plt.legend()\n",
        "plt.show()"
      ]
    },
    {
      "cell_type": "markdown",
      "metadata": {
        "id": "s7HcKfjJCM16"
      },
      "source": [
        "# 1) Understanding the model and default priors"
      ]
    },
    {
      "cell_type": "code",
      "execution_count": null,
      "metadata": {
        "id": "2-StX1_PCM16"
      },
      "outputs": [],
      "source": [
        "dummy_model = MMM(\n",
        "    date_column=\"\",\n",
        "    channel_columns=[\"\"],\n",
        "    adstock=GeometricAdstock(l_max=4),\n",
        "    saturation=LogisticSaturation(),\n",
        ")\n",
        "dummy_model.default_model_config"
      ]
    },
    {
      "cell_type": "markdown",
      "metadata": {
        "id": "jBc8Qy3vCM17"
      },
      "source": [
        "### Intercept"
      ]
    },
    {
      "cell_type": "code",
      "execution_count": null,
      "metadata": {
        "id": "inyIVTLLCM17"
      },
      "outputs": [],
      "source": [
        "mu = 0\n",
        "sigma = 2\n",
        "\n",
        "x = np.linspace(mu - 4*sigma, mu + 4*sigma, 100)\n",
        "y = norm.pdf(x, mu, sigma)\n",
        "\n",
        "plt.figure(figsize=(8, 5))\n",
        "plt.plot(x, y, color='blue')\n",
        "plt.fill_between(x, y, color='blue', alpha=0.3)\n",
        "plt.title('Intercept: Normal distribution (mu=0, sigma=2)')\n",
        "plt.xlabel('Intercept value')\n",
        "plt.ylabel('Probability density')\n",
        "plt.grid(True)\n",
        "plt.show()"
      ]
    },
    {
      "cell_type": "markdown",
      "metadata": {
        "id": "Agpmcf9tCM17"
      },
      "source": [
        "### Control"
      ]
    },
    {
      "cell_type": "code",
      "execution_count": null,
      "metadata": {
        "id": "kscsr3_nCM17"
      },
      "outputs": [],
      "source": [
        "mu = 0\n",
        "sigma = 2\n",
        "\n",
        "x = np.linspace(mu - 4*sigma, mu + 4*sigma, 100)\n",
        "y = norm.pdf(x, mu, sigma)\n",
        "\n",
        "plt.figure(figsize=(8, 5))\n",
        "plt.plot(x, y, color='blue')\n",
        "plt.fill_between(x, y, color='blue', alpha=0.3)\n",
        "plt.title('Control: Normal distribution (mu=0, sigma=2)')\n",
        "plt.xlabel('Control value')\n",
        "plt.ylabel('Probability density')\n",
        "plt.grid(True)\n",
        "plt.show()"
      ]
    },
    {
      "cell_type": "markdown",
      "metadata": {
        "id": "8bb6yowvCM17"
      },
      "source": [
        "### Seasonality"
      ]
    },
    {
      "cell_type": "code",
      "execution_count": null,
      "metadata": {
        "id": "PbhSIyPrCM17"
      },
      "outputs": [],
      "source": [
        "mu = 0\n",
        "b = 1\n",
        "\n",
        "x = np.linspace(mu - 4*b, mu + 4*b, 100)\n",
        "y = laplace.pdf(x, mu, b)\n",
        "\n",
        "plt.figure(figsize=(8, 5))\n",
        "plt.plot(x, y, color='blue')\n",
        "plt.fill_between(x, y, color='blue', alpha=0.3)\n",
        "plt.title('Seasonality: Laplace distribution (mu=0, b=1)')\n",
        "plt.xlabel('Seasonality value')\n",
        "plt.ylabel('Probability density')\n",
        "plt.grid(True)\n",
        "plt.show()\n"
      ]
    },
    {
      "cell_type": "markdown",
      "metadata": {
        "id": "Y4bzr3VSCM17"
      },
      "source": [
        "### Geometric adstock"
      ]
    },
    {
      "cell_type": "code",
      "execution_count": null,
      "metadata": {
        "id": "HzKInIj5CM17"
      },
      "outputs": [],
      "source": [
        "alpha = 1\n",
        "beta_param = 3\n",
        "\n",
        "x1 = np.linspace(0, 1, 100)\n",
        "y1 = beta.pdf(x1, alpha, beta_param)\n",
        "\n",
        "plt.figure(figsize=(8, 5))\n",
        "plt.plot(x1, y1, color='blue')\n",
        "plt.fill_between(x1, y1, color='blue', alpha=0.3)\n",
        "plt.title('Geometric Adstock: Beta distribution (alpha=1, beta=3)')\n",
        "plt.xlabel('Adstock alpha')\n",
        "plt.ylabel('Probability density')\n",
        "plt.grid(True)\n",
        "plt.show()"
      ]
    },
    {
      "cell_type": "code",
      "execution_count": null,
      "metadata": {
        "id": "lbyYVev6CM17"
      },
      "outputs": [],
      "source": [
        "raw_spend = np.array([1000, 900, 800, 700, 600, 500, 400, 300, 200, 100, 0, 0, 0, 0, 0, 0])\n",
        "\n",
        "adstock_spend_1 = geometric_adstock(x=raw_spend, alpha=0.20, l_max=8, normalize=True).eval().flatten()\n",
        "adstock_spend_2 = geometric_adstock(x=raw_spend, alpha=0.50, l_max=8, normalize=True).eval().flatten()\n",
        "adstock_spend_3 = geometric_adstock(x=raw_spend, alpha=0.80, l_max=8, normalize=True).eval().flatten()\n",
        "\n",
        "plt.figure(figsize=(10, 6))\n",
        "\n",
        "plt.plot(raw_spend, marker='o', label='Raw Spend', color='blue')\n",
        "plt.fill_between(range(len(raw_spend)), 0, raw_spend, color='blue', alpha=0.2)\n",
        "\n",
        "plt.plot(adstock_spend_1, marker='o', label='Adstock (alpha=0.20)', color='orange')\n",
        "plt.fill_between(range(len(adstock_spend_1)), 0, adstock_spend_1, color='orange', alpha=0.2)\n",
        "\n",
        "plt.plot(adstock_spend_2, marker='o', label='Adstock (alpha=0.50)', color='red')\n",
        "plt.fill_between(range(len(adstock_spend_2)), 0, adstock_spend_2, color='red', alpha=0.2)\n",
        "\n",
        "plt.plot(adstock_spend_3, marker='o', label='Adstock (alpha=0.80)', color='purple')\n",
        "plt.fill_between(range(len(adstock_spend_3)), 0, adstock_spend_3, color='purple', alpha=0.2)\n",
        "\n",
        "plt.xlabel('Weeks')\n",
        "plt.ylabel('Spend')\n",
        "plt.title('Geometric Adstock')\n",
        "plt.legend()\n",
        "plt.grid(True)\n",
        "plt.show()\n"
      ]
    },
    {
      "cell_type": "markdown",
      "metadata": {
        "id": "9anXM_3HCM17"
      },
      "source": [
        "### Logistic saturation"
      ]
    },
    {
      "cell_type": "code",
      "execution_count": null,
      "metadata": {
        "id": "nlPcPX1SCM17"
      },
      "outputs": [],
      "source": [
        "alpha = 3\n",
        "beta = 1\n",
        "\n",
        "x2 = np.linspace(0, 10, 1000)\n",
        "y2 = gamma.pdf(x2, alpha, scale=1/beta)\n",
        "\n",
        "plt.figure(figsize=(8, 6))\n",
        "plt.plot(x2, y2, 'b-')\n",
        "plt.fill_between(x2, y2, alpha=0.2, color='blue')\n",
        "plt.title('Logistic Saturation: Gamma Distribution (alpha=3, beta=1)')\n",
        "plt.xlabel('Saturation lamda')\n",
        "plt.ylabel('Probability density')\n",
        "plt.grid(True)\n",
        "plt.show()"
      ]
    },
    {
      "cell_type": "code",
      "execution_count": null,
      "metadata": {
        "id": "KIj1cRMgCM17"
      },
      "outputs": [],
      "source": [
        "scaled_spend = np.linspace(start=0.0, stop=1.0, num=100)\n",
        "\n",
        "saturated_spend_1 = logistic_saturation(x=scaled_spend, lam=1).eval()\n",
        "saturated_spend_2 = logistic_saturation(x=scaled_spend, lam=2).eval()\n",
        "saturated_spend_4 = logistic_saturation(x=scaled_spend, lam=4).eval()\n",
        "saturated_spend_8 = logistic_saturation(x=scaled_spend, lam=8).eval()\n",
        "\n",
        "plt.figure(figsize=(8, 6))\n",
        "sns.lineplot(x=scaled_spend, y=saturated_spend_1, label=\"1\")\n",
        "sns.lineplot(x=scaled_spend, y=saturated_spend_2, label=\"2\")\n",
        "sns.lineplot(x=scaled_spend, y=saturated_spend_4, label=\"4\")\n",
        "sns.lineplot(x=scaled_spend, y=saturated_spend_8, label=\"8\")\n",
        "\n",
        "plt.title('Logistic Saturation')\n",
        "plt.xlabel('Scaled Marketing Spend')\n",
        "plt.ylabel('Saturated Marketing Spend')\n",
        "plt.legend(title='Lambda')\n",
        "plt.grid(True)\n",
        "plt.show()"
      ]
    },
    {
      "cell_type": "markdown",
      "metadata": {
        "id": "Pna5Ero_CM18"
      },
      "source": [
        "### Saturation beta"
      ]
    },
    {
      "cell_type": "code",
      "execution_count": null,
      "metadata": {
        "id": "QtbjE9B7CM18"
      },
      "outputs": [],
      "source": [
        "sigma = 2\n",
        "\n",
        "x3 = np.linspace(0, 10, 1000)\n",
        "y3 = halfnorm.pdf(x3, scale=sigma)\n",
        "\n",
        "plt.figure(figsize=(8, 6))\n",
        "plt.plot(x3, y3, 'b-')\n",
        "plt.fill_between(x3, y3, alpha=0.2, color='blue')\n",
        "plt.title('Saturation beta prior: HalfNormal Distribution (sigma=2)')\n",
        "plt.xlabel('Saturation beta')\n",
        "plt.ylabel('Probability Density')\n",
        "plt.grid(True)\n",
        "plt.show()"
      ]
    },
    {
      "cell_type": "markdown",
      "metadata": {
        "id": "Lb9sKNA1CM18"
      },
      "source": [
        "# 2) Fit model"
      ]
    },
    {
      "cell_type": "code",
      "execution_count": null,
      "metadata": {
        "id": "Nu075O_gCM18"
      },
      "outputs": [],
      "source": [
        "df.info()"
      ]
    },
    {
      "cell_type": "code",
      "execution_count": null,
      "metadata": {
        "id": "s-5TamdyCM18"
      },
      "outputs": [],
      "source": [
        "# set date column\n",
        "date_col = \"date\"\n",
        "\n",
        "# set outcome column\n",
        "y_col = \"sales\"\n",
        "\n",
        "# set marketing variables\n",
        "channel_cols = [\"tv_spend_raw\",\n",
        "                \"social_spend_raw\",\n",
        "                \"search_spend_raw\"]\n",
        "\n",
        "# set control variables\n",
        "control_cols = [\"demand_proxy\"]\n",
        "\n",
        "# create arrays\n",
        "X = df[[date_col] + channel_cols + control_cols]\n",
        "y = df[y_col]\n",
        "\n",
        "# set test (out-of-sample) length\n",
        "test_len = 8\n",
        "\n",
        "# create train and test indexs\n",
        "train_idx = slice(0, len(df) - test_len)\n",
        "out_of_time_idx = slice(len(df) - test_len, len(df))"
      ]
    },
    {
      "cell_type": "code",
      "execution_count": null,
      "metadata": {
        "id": "z-IKp1-KCM18"
      },
      "outputs": [],
      "source": [
        "mmm_default = MMM(\n",
        "    adstock=GeometricAdstock(l_max=8),\n",
        "    saturation=LogisticSaturation(),\n",
        "    date_column=date_col,\n",
        "    channel_columns=channel_cols,\n",
        "    control_columns=control_cols,\n",
        ")\n",
        "\n",
        "mmm_default.default_model_config"
      ]
    },
    {
      "cell_type": "code",
      "execution_count": null,
      "metadata": {
        "id": "Z-5vJfERCM18"
      },
      "outputs": [],
      "source": [
        "fit_kwargs = {\n",
        "    \"tune\": 1_000,\n",
        "    \"chains\": 4,\n",
        "    \"draws\": 1_000,\n",
        "    \"target_accept\": 0.9,\n",
        "}\n",
        "\n",
        "mmm_default.fit(X[train_idx], y[train_idx], **fit_kwargs)"
      ]
    },
    {
      "cell_type": "code",
      "execution_count": null,
      "metadata": {
        "id": "5GVkN2c7CM19"
      },
      "outputs": [],
      "source": [
        "mmm_default.save(\"mmm_default.nc\")"
      ]
    },
    {
      "cell_type": "markdown",
      "metadata": {
        "id": "JjP8Z_XOCM19"
      },
      "source": [
        "# 3) Validate model"
      ]
    },
    {
      "cell_type": "code",
      "execution_count": null,
      "metadata": {
        "id": "VpnUIfqdCM2B"
      },
      "outputs": [],
      "source": [
        "mmm_default.idata[\"sample_stats\"][\"diverging\"].sum().item()"
      ]
    },
    {
      "cell_type": "code",
      "execution_count": null,
      "metadata": {
        "id": "r8cQc-jlCM2B"
      },
      "outputs": [],
      "source": [
        "az.summary(\n",
        "    data=mmm_default.fit_result,\n",
        "    var_names=[\n",
        "        \"intercept\",\n",
        "        \"y_sigma\",\n",
        "        \"saturation_beta\",\n",
        "        \"saturation_lam\",\n",
        "        \"adstock_alpha\",\n",
        "        \"gamma_control\",\n",
        "    ],\n",
        ")"
      ]
    },
    {
      "cell_type": "code",
      "execution_count": null,
      "metadata": {
        "id": "sJJSpCHOCM2B"
      },
      "outputs": [],
      "source": [
        "_ = az.plot_trace(\n",
        "    data=mmm_default.fit_result,\n",
        "    var_names=[\n",
        "        \"intercept\",\n",
        "        \"y_sigma\",\n",
        "        \"saturation_beta\",\n",
        "        \"saturation_lam\",\n",
        "        \"adstock_alpha\",\n",
        "        \"gamma_control\",\n",
        "    ],\n",
        "    compact=True,\n",
        "    backend_kwargs={\"figsize\": (12, 10), \"layout\": \"constrained\"},\n",
        ")\n",
        "plt.gcf().suptitle(\"Model Trace\", fontsize=16);"
      ]
    },
    {
      "cell_type": "code",
      "execution_count": null,
      "metadata": {
        "id": "KnSRdGLxCM2B"
      },
      "outputs": [],
      "source": [
        "mmm_default.sample_posterior_predictive(X[train_idx], extend_idata=True, combined=True)"
      ]
    },
    {
      "cell_type": "code",
      "execution_count": null,
      "metadata": {
        "id": "hvndJgefCM2B"
      },
      "outputs": [],
      "source": [
        "mmm_default.plot_components_contributions(original_scale=True);"
      ]
    },
    {
      "cell_type": "code",
      "execution_count": null,
      "metadata": {
        "id": "CB5iOTo-CM2B"
      },
      "outputs": [],
      "source": [
        "mmm_default.plot_posterior_predictive(original_scale=True);"
      ]
    },
    {
      "cell_type": "code",
      "execution_count": null,
      "metadata": {
        "id": "YUwwQyy8CM2B"
      },
      "outputs": [],
      "source": [
        "mmm_default.plot_errors(original_scale=True);"
      ]
    },
    {
      "cell_type": "code",
      "execution_count": null,
      "metadata": {
        "id": "cV3tSO1zCM2B"
      },
      "outputs": [],
      "source": [
        "errors = mmm_default.get_errors(original_scale=True)\n",
        "\n",
        "fig, ax = plt.subplots(figsize=(8, 6))\n",
        "az.plot_dist(\n",
        "    errors, quantiles=[0.25, 0.5, 0.75], color=\"C3\", fill_kwargs={\"alpha\": 0.7}, ax=ax\n",
        ")\n",
        "ax.axvline(x=0, color=\"black\", linestyle=\"--\", linewidth=1, label=\"zero\")\n",
        "ax.legend()\n",
        "ax.set(title=\"Errors Posterior Distribution\");"
      ]
    },
    {
      "cell_type": "code",
      "execution_count": null,
      "metadata": {
        "id": "J_dZ4SdECM2B"
      },
      "outputs": [],
      "source": [
        "y_out_of_sample = mmm_default.sample_posterior_predictive(\n",
        "    X_pred=X[out_of_time_idx], extend_idata=False, include_last_observations=True\n",
        ")\n",
        "\n",
        "def plot_in_sample(X, y, ax, n_points: int = 15):\n",
        "    (\n",
        "        y.to_frame()\n",
        "        .set_index(X[date_col])\n",
        "        .iloc[-n_points:]\n",
        "        .plot(ax=ax, marker=\"o\", color=\"black\", label=\"actuals\")\n",
        "    )\n",
        "    return ax\n",
        "\n",
        "\n",
        "def plot_out_of_sample(X_out_of_sample, y_out_of_sample, ax, color, label):\n",
        "    y_out_of_sample_groupby = y_out_of_sample[\"y\"].to_series().groupby(\"date\")\n",
        "\n",
        "    lower, upper = quantiles = [0.025, 0.975]\n",
        "    conf = y_out_of_sample_groupby.quantile(quantiles).unstack()\n",
        "    ax.fill_between(\n",
        "        X_out_of_sample[date_col].dt.to_pydatetime(),\n",
        "        conf[lower],\n",
        "        conf[upper],\n",
        "        alpha=0.25,\n",
        "        color=color,\n",
        "        label=f\"{label} interval\",\n",
        "    )\n",
        "\n",
        "    mean = y_out_of_sample_groupby.mean()\n",
        "    mean.plot(ax=ax, marker=\"o\", label=label, color=color, linestyle=\"--\")\n",
        "    ax.set(ylabel=\"Original Target Scale\", title=\"Out of sample predictions for MMM\")\n",
        "    return ax\n",
        "\n",
        "\n",
        "_, ax = plt.subplots()\n",
        "plot_in_sample(X, y, ax=ax, n_points=len(X[out_of_time_idx])*3)\n",
        "plot_out_of_sample(\n",
        "    X[out_of_time_idx], y_out_of_sample, ax=ax, label=\"out of sample\", color=\"C0\"\n",
        ")\n",
        "ax.legend(loc=\"upper left\");"
      ]
    },
    {
      "cell_type": "markdown",
      "metadata": {
        "id": "8GDRikkHCM2B"
      },
      "source": [
        "# 4) Parameter validation - Adstock"
      ]
    },
    {
      "cell_type": "code",
      "execution_count": null,
      "metadata": {
        "id": "5xoVjHKjCM2B"
      },
      "outputs": [],
      "source": [
        "fig = mmm_default.plot_channel_parameter(param_name=\"adstock_alpha\", figsize=(9, 5))\n",
        "ax = fig.axes[0]\n",
        "ax.axvline(x=adstock_alphas[0], color=\"C0\", linestyle=\"--\", label=r\"$\\alpha_1$\")\n",
        "ax.axvline(x=adstock_alphas[1], color=\"C1\", linestyle=\"--\", label=r\"$\\alpha_2$\")\n",
        "ax.axvline(x=adstock_alphas[2], color=\"C2\", linestyle=\"--\", label=r\"$\\alpha_3$\")\n",
        "ax.legend(loc=\"upper right\");"
      ]
    },
    {
      "cell_type": "markdown",
      "metadata": {
        "id": "BTO72A6-CM2B"
      },
      "source": [
        "# 5) Parameter validation - Saturation"
      ]
    },
    {
      "cell_type": "code",
      "execution_count": null,
      "metadata": {
        "id": "aTEY0thaCM2B"
      },
      "outputs": [],
      "source": [
        "fig = mmm_default.plot_channel_parameter(param_name=\"saturation_lam\", figsize=(9, 5))\n",
        "ax = fig.axes[0]\n",
        "ax.axvline(x=saturation_lamdas[0], color=\"C0\", linestyle=\"--\", label=r\"$\\lambda_1$\")\n",
        "ax.axvline(x=saturation_lamdas[1], color=\"C1\", linestyle=\"--\", label=r\"$\\lambda_2$\")\n",
        "ax.axvline(x=saturation_lamdas[2], color=\"C2\", linestyle=\"--\", label=r\"$\\lambda_3$\")\n",
        "ax.set_xlim([0, 8])\n",
        "ax.legend(loc=\"upper right\");"
      ]
    },
    {
      "cell_type": "markdown",
      "metadata": {
        "id": "k9w1l9FCCM2B"
      },
      "source": [
        "# 6) Parameter validation - Channel betas"
      ]
    },
    {
      "cell_type": "code",
      "execution_count": null,
      "metadata": {
        "id": "sDKzCi2BCM2C"
      },
      "outputs": [],
      "source": [
        "fig = mmm_default.plot_channel_parameter(param_name=\"saturation_beta\", figsize=(9, 5))\n",
        "ax = fig.axes[0]\n",
        "ax.axvline(x=betas_scaled[0], color=\"C0\", linestyle=\"--\", label=r\"$\\beta_1$\")\n",
        "ax.axvline(x=betas_scaled[1], color=\"C1\", linestyle=\"--\", label=r\"$\\beta_2$\")\n",
        "ax.axvline(x=betas_scaled[2], color=\"C2\", linestyle=\"--\", label=r\"$\\beta_3$\")\n",
        "ax.set_xlim([0, 1])\n",
        "ax.legend(loc=\"lower right\");"
      ]
    },
    {
      "cell_type": "code",
      "execution_count": null,
      "metadata": {
        "id": "9XjECuX5CM2C"
      },
      "outputs": [],
      "source": [
        "groups = {\n",
        "    \"Base\": [\n",
        "        \"intercept\",\n",
        "        \"demand_proxy\",\n",
        "    ],\n",
        "    \"TV\": [\"tv_spend_raw\"],\n",
        "    \"Social\": [\"social_spend_raw\"],\n",
        "    \"Search\": [\"search_spend_raw\"],\n",
        "}\n",
        "\n",
        "fig = mmm_default.plot_grouped_contribution_breakdown_over_time(\n",
        "    stack_groups=groups,\n",
        "    original_scale=True,\n",
        "    area_kwargs={\n",
        "        \"color\": {\n",
        "            \"TV\": \"C0\",\n",
        "            \"Social\": \"C1\",\n",
        "            \"Search\": \"C2\",\n",
        "            \"Base\": \"gray\",\n",
        "        },\n",
        "        \"alpha\": 0.7,\n",
        "    },\n",
        ")\n",
        "\n",
        "fig.suptitle(\"Contribution Breakdown over Time\", fontsize=16);"
      ]
    },
    {
      "cell_type": "code",
      "execution_count": null,
      "metadata": {
        "id": "rAJqErEYCM2C"
      },
      "outputs": [],
      "source": [
        "channels = np.array([\"tv\", \"social\", \"search\", \"demand\"])\n",
        "\n",
        "true_contributions = pd.DataFrame({'Channels': channels, 'Contributions': contributions})\n",
        "true_contributions= true_contributions.sort_values(by='Contributions', ascending=False).reset_index(drop=True)\n",
        "true_contributions = true_contributions.style.bar(subset=['Contributions'], color='lightblue')\n",
        "\n",
        "true_contributions"
      ]
    },
    {
      "cell_type": "code",
      "execution_count": null,
      "metadata": {
        "id": "xFYv7XlNCM2C"
      },
      "outputs": [],
      "source": [
        "mmm_default.plot_waterfall_components_decomposition(figsize=(10,6));"
      ]
    }
  ],
  "metadata": {
    "kernelspec": {
      "display_name": "Python 3",
      "language": "python",
      "name": "python3"
    },
    "language_info": {
      "codemirror_mode": {
        "name": "ipython",
        "version": 3
      },
      "file_extension": ".py",
      "mimetype": "text/x-python",
      "name": "python",
      "nbconvert_exporter": "python",
      "pygments_lexer": "ipython3",
      "version": "3.11.4"
    },
    "colab": {
      "provenance": []
    }
  },
  "nbformat": 4,
  "nbformat_minor": 0
}